{
  "nbformat": 4,
  "nbformat_minor": 0,
  "metadata": {
    "colab": {
      "name": "325_bird_species_classification.ipynb",
      "provenance": []
    },
    "kernelspec": {
      "name": "python3",
      "display_name": "Python 3"
    },
    "language_info": {
      "name": "python"
    },
    "accelerator": "GPU"
  },
  "cells": [
    {
      "cell_type": "markdown",
      "source": [
        "###TASK DESCRIPTION.\n",
        "\n",
        "Build a CNN model to classify bird species. The training set consists of 47332 images of 325 different bird species. A validation set consisting of 1625 images (5 images for each bird specie) will be used to test the performance of the model and a final test set (1625 images) will be used to test the generalization performance of the model.\n",
        "\n",
        "The data and the task comes from a Kaggle challenge:\n",
        "https://www.kaggle.com/gpiosenka/100-bird-species/version/48?select=valid"
      ],
      "metadata": {
        "id": "p0Dt4dFwk_FW"
      }
    },
    {
      "cell_type": "markdown",
      "source": [
        ""
      ],
      "metadata": {
        "id": "zviI49s-k71C"
      }
    },
    {
      "cell_type": "code",
      "source": [
        "import os\n",
        "import tensorflow as tf\n",
        "from tensorflow.keras import layers\n",
        "from tensorflow.keras import Model\n",
        "from os import getcwd\n",
        "from tensorflow.keras.optimizers import RMSprop\n",
        "from tensorflow.keras.preprocessing.image import ImageDataGenerator\n",
        "import matplotlib.pyplot as plt\n",
        "import zipfile\n",
        "import shutil\n",
        "import matplotlib.image  as mpimg"
      ],
      "metadata": {
        "id": "56j_y-2ulE9q"
      },
      "execution_count": 12,
      "outputs": []
    },
    {
      "cell_type": "code",
      "source": [
        "from google.colab import drive\n",
        "drive.mount('/content/gdrive')"
      ],
      "metadata": {
        "id": "uwEJ1oFtCrt8",
        "colab": {
          "base_uri": "https://localhost:8080/"
        },
        "outputId": "8351164d-3760-4b4f-d08f-0176c1e9d875"
      },
      "execution_count": 13,
      "outputs": [
        {
          "output_type": "stream",
          "name": "stdout",
          "text": [
            "Mounted at /content/gdrive\n"
          ]
        }
      ]
    },
    {
      "cell_type": "code",
      "source": [
        "os.listdir(f\"{getcwd()}/gdrive/MyDrive\")"
      ],
      "metadata": {
        "colab": {
          "base_uri": "https://localhost:8080/"
        },
        "id": "qpJqZxNQSwxk",
        "outputId": "4da6351f-58f2-4452-881b-765cdc1b61f4"
      },
      "execution_count": 14,
      "outputs": [
        {
          "output_type": "execute_result",
          "data": {
            "text/plain": [
              "['libro marketing.pdf',\n",
              " 'Applied marketing research project [Autosaved].pptx',\n",
              " 'Applied marketing research project [Autosaved] (2).pptx.gslides',\n",
              " 'Applied marketing research project [Autosaved] (1).pptx.gslides',\n",
              " 'Applied marketing research project [Autosaved].pptx.gslides',\n",
              " 'TechSmith',\n",
              " 'Presentazione macro factors.pptx',\n",
              " 'Presentazione macro factors2.ppt',\n",
              " 'presentazione tesi.pptx',\n",
              " 'TMD1617_DecisionTrees_Example1.xlsx',\n",
              " 'TMD1617_DecisionTrees_Example1.xlsx.gsheet',\n",
              " 'EU.docx',\n",
              " 'Copia di EU.docx',\n",
              " 'Modulo senza titolo.gform',\n",
              " 'Template - Business Model Canvas.gdraw',\n",
              " 'Scansione 9 ott 17.pdf',\n",
              " \"a1738320_D'Alessandro_Claudio_CelebrityEndorsement.nvpx\",\n",
              " 'role play.gdoc',\n",
              " 'laurea',\n",
              " 'one minute of me final.mov',\n",
              " '1715 DR M.U. BIG DATA 1° liv.pdf',\n",
              " 'Bonifico n.1101202040496274.pdf',\n",
              " 'IMG-3985.jpg',\n",
              " \"CV Claudio D'Alessandro.pdf\",\n",
              " 'Colab Notebooks',\n",
              " 'work permit 1.pdf',\n",
              " 'work permit 2.pdf',\n",
              " 'Bird_species']"
            ]
          },
          "metadata": {},
          "execution_count": 14
        }
      ]
    },
    {
      "cell_type": "code",
      "source": [
        "os.getcwd()"
      ],
      "metadata": {
        "colab": {
          "base_uri": "https://localhost:8080/",
          "height": 35
        },
        "id": "u_mCDqG6DBF5",
        "outputId": "f287e597-2b9e-4662-b172-33f4902c9456"
      },
      "execution_count": 15,
      "outputs": [
        {
          "output_type": "execute_result",
          "data": {
            "application/vnd.google.colaboratory.intrinsic+json": {
              "type": "string"
            },
            "text/plain": [
              "'/content'"
            ]
          },
          "metadata": {},
          "execution_count": 15
        }
      ]
    },
    {
      "cell_type": "markdown",
      "source": [
        "Creating the model"
      ],
      "metadata": {
        "id": "QjckaU9qYQjV"
      }
    },
    {
      "cell_type": "code",
      "source": [
        "model = tf.keras.models.Sequential([\n",
        "  tf.keras.layers.Conv2D(16, (3,3), activation='relu', input_shape=(224, 224, 3)),\n",
        "  tf.keras.layers.MaxPooling2D(2,2),\n",
        "  tf.keras.layers.Conv2D(32, (3,3), activation='relu'),\n",
        "  tf.keras.layers.MaxPooling2D(2,2), \n",
        "  tf.keras.layers.Conv2D(32, (3,3), activation='relu'),\n",
        "  tf.keras.layers.MaxPooling2D(2,2), \n",
        "  tf.keras.layers.Conv2D(64, (3,3), activation='relu'), \n",
        "  tf.keras.layers.MaxPooling2D(2,2),\n",
        "  tf.keras.layers.Flatten(), \n",
        "  tf.keras.layers.Dense(512, activation='relu'), \n",
        "  tf.keras.layers.Dense(325, activation='softmax')\n",
        "])\n",
        "\n",
        "model.compile(optimizer=RMSprop(learning_rate=0.001), loss='categorical_crossentropy', metrics=['acc'])"
      ],
      "metadata": {
        "id": "olU4xMJ8U02J"
      },
      "execution_count": 16,
      "outputs": []
    },
    {
      "cell_type": "code",
      "source": [
        "model.summary()"
      ],
      "metadata": {
        "colab": {
          "base_uri": "https://localhost:8080/"
        },
        "id": "DxCap_r_DkcJ",
        "outputId": "cc1a2354-47d0-423c-dc54-97515189b8ba"
      },
      "execution_count": 17,
      "outputs": [
        {
          "output_type": "stream",
          "name": "stdout",
          "text": [
            "Model: \"sequential_1\"\n",
            "_________________________________________________________________\n",
            " Layer (type)                Output Shape              Param #   \n",
            "=================================================================\n",
            " conv2d_4 (Conv2D)           (None, 222, 222, 16)      448       \n",
            "                                                                 \n",
            " max_pooling2d_4 (MaxPooling  (None, 111, 111, 16)     0         \n",
            " 2D)                                                             \n",
            "                                                                 \n",
            " conv2d_5 (Conv2D)           (None, 109, 109, 32)      4640      \n",
            "                                                                 \n",
            " max_pooling2d_5 (MaxPooling  (None, 54, 54, 32)       0         \n",
            " 2D)                                                             \n",
            "                                                                 \n",
            " conv2d_6 (Conv2D)           (None, 52, 52, 32)        9248      \n",
            "                                                                 \n",
            " max_pooling2d_6 (MaxPooling  (None, 26, 26, 32)       0         \n",
            " 2D)                                                             \n",
            "                                                                 \n",
            " conv2d_7 (Conv2D)           (None, 24, 24, 64)        18496     \n",
            "                                                                 \n",
            " max_pooling2d_7 (MaxPooling  (None, 12, 12, 64)       0         \n",
            " 2D)                                                             \n",
            "                                                                 \n",
            " flatten_1 (Flatten)         (None, 9216)              0         \n",
            "                                                                 \n",
            " dense_2 (Dense)             (None, 512)               4719104   \n",
            "                                                                 \n",
            " dense_3 (Dense)             (None, 325)               166725    \n",
            "                                                                 \n",
            "=================================================================\n",
            "Total params: 4,918,661\n",
            "Trainable params: 4,918,661\n",
            "Non-trainable params: 0\n",
            "_________________________________________________________________\n"
          ]
        }
      ]
    },
    {
      "cell_type": "markdown",
      "source": [
        "Creating ImageDataGenerator for both the training and validation. Image augmentation is used for the train set"
      ],
      "metadata": {
        "id": "U9r4j06_YThr"
      }
    },
    {
      "cell_type": "code",
      "source": [
        "TRAINING_DIR = f\"{getcwd()}/gdrive/MyDrive/Bird_species/train\"\n",
        "train_datagen = ImageDataGenerator(rescale = 1/255,\n",
        "      rotation_range=40,\n",
        "      width_shift_range=0.2,\n",
        "      height_shift_range=0.2,\n",
        "      shear_range=0.2,\n",
        "      zoom_range=0.2,\n",
        "      horizontal_flip=True,\n",
        "      fill_mode='nearest' )\n",
        "train_generator = train_datagen.flow_from_directory(TRAINING_DIR,\n",
        "                                                    class_mode='categorical',\n",
        "                                                    batch_size = 100,\n",
        "                                                    target_size = (224, 224))\n",
        "\n",
        "VALIDATION_DIR = f\"{getcwd()}/gdrive/MyDrive/Bird_species/valid\"\n",
        "validation_datagen = ImageDataGenerator( rescale = 1/255 )\n",
        "validation_generator = validation_datagen.flow_from_directory(VALIDATION_DIR,\n",
        "                                                         batch_size=25,\n",
        "                                                         class_mode  = 'categorical',\n",
        "                                                         target_size = (224, 224))\n",
        "\n",
        "TEST_DIR = f\"{getcwd()}/gdrive/MyDrive/Bird_species/test\"\n",
        "test_datagen = ImageDataGenerator( rescale = 1/255 )\n",
        "test_generator = test_datagen.flow_from_directory(TEST_DIR,\n",
        "                                                         batch_size=25,\n",
        "                                                         class_mode  = 'categorical',\n",
        "                                                         target_size = (224, 224))"
      ],
      "metadata": {
        "colab": {
          "base_uri": "https://localhost:8080/"
        },
        "id": "_xXPSYEpVU2M",
        "outputId": "332f7613-c0fa-4125-afb8-c8cd5c1c2194"
      },
      "execution_count": 19,
      "outputs": [
        {
          "output_type": "stream",
          "name": "stdout",
          "text": [
            "Found 47442 images belonging to 325 classes.\n",
            "Found 1625 images belonging to 326 classes.\n",
            "Found 1625 images belonging to 325 classes.\n"
          ]
        }
      ]
    },
    {
      "cell_type": "markdown",
      "source": [
        "Fitting the model"
      ],
      "metadata": {
        "id": "sG7Tu51NYdoN"
      }
    },
    {
      "cell_type": "code",
      "source": [
        "checkpoint_filepath = f\"{getcwd()}/gdrive/MyDrive/Bird_species/model\""
      ],
      "metadata": {
        "id": "sHfeIgX3z825"
      },
      "execution_count": 20,
      "outputs": []
    },
    {
      "cell_type": "code",
      "source": [
        "model_checkpoint_callback = tf.keras.callbacks.ModelCheckpoint(\n",
        "    filepath=checkpoint_filepath,\n",
        "    save_weights_only=True,\n",
        "    monitor='val_accuracy',\n",
        "    mode='max',\n",
        "    save_best_only=True)"
      ],
      "metadata": {
        "id": "rwDHbjufzs_N"
      },
      "execution_count": 21,
      "outputs": []
    },
    {
      "cell_type": "code",
      "source": [
        "history = model.fit_generator(train_generator, epochs=15, validation_data= test_generator, callbacks=[model_checkpoint_callback])"
      ],
      "metadata": {
        "id": "6weOC3c3WhyV",
        "colab": {
          "base_uri": "https://localhost:8080/"
        },
        "outputId": "3972b97e-37ee-446d-c072-31d9a0c7a23c"
      },
      "execution_count": 22,
      "outputs": [
        {
          "metadata": {
            "tags": null
          },
          "name": "stderr",
          "output_type": "stream",
          "text": [
            "/usr/local/lib/python3.7/dist-packages/ipykernel_launcher.py:1: UserWarning: `Model.fit_generator` is deprecated and will be removed in a future version. Please use `Model.fit`, which supports generators.\n",
            "  \"\"\"Entry point for launching an IPython kernel.\n"
          ]
        },
        {
          "output_type": "stream",
          "name": "stdout",
          "text": [
            "Epoch 1/15\n",
            "475/475 [==============================] - ETA: 0s - loss: 5.0102 - acc: 0.0515WARNING:tensorflow:Can save best model only with val_accuracy available, skipping.\n",
            "475/475 [==============================] - 987s 2s/step - loss: 5.0102 - acc: 0.0515 - val_loss: 3.7030 - val_acc: 0.1803\n",
            "Epoch 2/15\n",
            "475/475 [==============================] - ETA: 0s - loss: 3.9437 - acc: 0.1661WARNING:tensorflow:Can save best model only with val_accuracy available, skipping.\n",
            "475/475 [==============================] - 737s 2s/step - loss: 3.9437 - acc: 0.1661 - val_loss: 2.7643 - val_acc: 0.3588\n",
            "Epoch 3/15\n",
            "475/475 [==============================] - ETA: 0s - loss: 3.4086 - acc: 0.2516WARNING:tensorflow:Can save best model only with val_accuracy available, skipping.\n",
            "475/475 [==============================] - 725s 2s/step - loss: 3.4086 - acc: 0.2516 - val_loss: 2.3835 - val_acc: 0.4363\n",
            "Epoch 4/15\n",
            "475/475 [==============================] - ETA: 0s - loss: 3.0421 - acc: 0.3163WARNING:tensorflow:Can save best model only with val_accuracy available, skipping.\n",
            "475/475 [==============================] - 722s 2s/step - loss: 3.0421 - acc: 0.3163 - val_loss: 1.9676 - val_acc: 0.5218\n",
            "Epoch 5/15\n",
            "475/475 [==============================] - ETA: 0s - loss: 2.7978 - acc: 0.3645WARNING:tensorflow:Can save best model only with val_accuracy available, skipping.\n",
            "475/475 [==============================] - 708s 1s/step - loss: 2.7978 - acc: 0.3645 - val_loss: 1.7647 - val_acc: 0.5545\n",
            "Epoch 6/15\n",
            "475/475 [==============================] - ETA: 0s - loss: 2.6025 - acc: 0.4004WARNING:tensorflow:Can save best model only with val_accuracy available, skipping.\n",
            "475/475 [==============================] - 715s 2s/step - loss: 2.6025 - acc: 0.4004 - val_loss: 1.5528 - val_acc: 0.6197\n",
            "Epoch 7/15\n",
            "475/475 [==============================] - ETA: 0s - loss: 2.4613 - acc: 0.4301WARNING:tensorflow:Can save best model only with val_accuracy available, skipping.\n",
            "475/475 [==============================] - 716s 2s/step - loss: 2.4613 - acc: 0.4301 - val_loss: 1.5462 - val_acc: 0.6080\n",
            "Epoch 8/15\n",
            "475/475 [==============================] - ETA: 0s - loss: 2.3339 - acc: 0.4546WARNING:tensorflow:Can save best model only with val_accuracy available, skipping.\n",
            "475/475 [==============================] - 705s 1s/step - loss: 2.3339 - acc: 0.4546 - val_loss: 1.4346 - val_acc: 0.6394\n",
            "Epoch 9/15\n",
            "475/475 [==============================] - ETA: 0s - loss: 2.2463 - acc: 0.4719WARNING:tensorflow:Can save best model only with val_accuracy available, skipping.\n",
            "475/475 [==============================] - 708s 1s/step - loss: 2.2463 - acc: 0.4719 - val_loss: 1.3495 - val_acc: 0.6585\n",
            "Epoch 10/15\n",
            "475/475 [==============================] - ETA: 0s - loss: 2.1719 - acc: 0.4897WARNING:tensorflow:Can save best model only with val_accuracy available, skipping.\n",
            "475/475 [==============================] - 731s 2s/step - loss: 2.1719 - acc: 0.4897 - val_loss: 1.3095 - val_acc: 0.6745\n",
            "Epoch 11/15\n",
            "475/475 [==============================] - ETA: 0s - loss: 2.1063 - acc: 0.5019WARNING:tensorflow:Can save best model only with val_accuracy available, skipping.\n",
            "475/475 [==============================] - 738s 2s/step - loss: 2.1063 - acc: 0.5019 - val_loss: 1.2759 - val_acc: 0.6775\n",
            "Epoch 12/15\n",
            "475/475 [==============================] - ETA: 0s - loss: 2.0529 - acc: 0.5137WARNING:tensorflow:Can save best model only with val_accuracy available, skipping.\n",
            "475/475 [==============================] - 739s 2s/step - loss: 2.0529 - acc: 0.5137 - val_loss: 1.3628 - val_acc: 0.6572\n",
            "Epoch 13/15\n",
            "475/475 [==============================] - ETA: 0s - loss: 2.0115 - acc: 0.5226WARNING:tensorflow:Can save best model only with val_accuracy available, skipping.\n",
            "475/475 [==============================] - 726s 2s/step - loss: 2.0115 - acc: 0.5226 - val_loss: 1.1472 - val_acc: 0.7120\n",
            "Epoch 14/15\n",
            "475/475 [==============================] - ETA: 0s - loss: 1.9750 - acc: 0.5309WARNING:tensorflow:Can save best model only with val_accuracy available, skipping.\n",
            "475/475 [==============================] - 732s 2s/step - loss: 1.9750 - acc: 0.5309 - val_loss: 1.2801 - val_acc: 0.6849\n",
            "Epoch 15/15\n",
            "475/475 [==============================] - ETA: 0s - loss: 1.9480 - acc: 0.5364WARNING:tensorflow:Can save best model only with val_accuracy available, skipping.\n",
            "475/475 [==============================] - 736s 2s/step - loss: 1.9480 - acc: 0.5364 - val_loss: 1.1128 - val_acc: 0.7126\n"
          ]
        }
      ]
    },
    {
      "cell_type": "markdown",
      "source": [
        "Plotting accuracy and loss results for both the training and validation set"
      ],
      "metadata": {
        "id": "MaiRD9_vYfex"
      }
    },
    {
      "cell_type": "code",
      "source": [
        "%matplotlib inline\n",
        "\n",
        "\n",
        "acc=history.history['acc']\n",
        "val_acc=history.history['val_acc']\n",
        "loss=history.history['loss']\n",
        "val_loss=history.history['val_loss']\n",
        "\n",
        "epochs=range(len(acc)) # Get number of epochs\n",
        "\n",
        "#------------------------------------------------\n",
        "# Plot training and validation accuracy per epoch\n",
        "#------------------------------------------------\n",
        "plt.plot(epochs, acc, 'r', label = \"Training Accuracy\")\n",
        "plt.plot(epochs, val_acc, 'b', label = \"Validation Accuracy\")\n",
        "plt.title('Training and validation accuracy')\n",
        "plt.legend()\n",
        "plt.figure()\n",
        "\n",
        "#------------------------------------------------\n",
        "# Plot training and validation loss per epoch\n",
        "#------------------------------------------------\n",
        "plt.plot(epochs, loss, 'r', label = \"Training Loss\")\n",
        "plt.plot(epochs, val_loss, 'b', label = \"Validation Loss\")\n",
        "plt.title('Training and validation loss')\n",
        "plt.legend()\n",
        "\n",
        "plt.show()"
      ],
      "metadata": {
        "id": "wSbnZkArX5yp",
        "colab": {
          "base_uri": "https://localhost:8080/",
          "height": 545
        },
        "outputId": "7f85a285-e85c-47b8-8c06-9bd9f9d33be5"
      },
      "execution_count": 28,
      "outputs": [
        {
          "output_type": "display_data",
          "data": {
            "image/png": "[encoded data removed]",
            "text/plain": [
              "<Figure size 432x288 with 1 Axes>"
            ]
          },
          "metadata": {
            "needs_background": "light"
          }
        },
        {
          "output_type": "display_data",
          "data": {
            "image/png": "[encoded data removed]",
            "text/plain": [
              "<Figure size 432x288 with 1 Axes>"
            ]
          },
          "metadata": {
            "needs_background": "light"
          }
        }
      ]
    },
    {
      "cell_type": "code",
      "source": [
        ""
      ],
      "metadata": {
        "id": "ocHs5slOGmRH"
      },
      "execution_count": null,
      "outputs": []
    }
  ]
}